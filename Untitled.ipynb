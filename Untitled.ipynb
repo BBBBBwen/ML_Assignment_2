{
 "cells": [
  {
   "cell_type": "markdown",
   "metadata": {},
   "source": [
    "# Assignment2 Classify Images of Road Traffic Signs\n",
    "Load necessary packages"
   ]
  },
  {
   "cell_type": "code",
   "execution_count": 1,
   "metadata": {},
   "outputs": [
    {
     "name": "stdout",
     "output_type": "stream",
     "text": [
      "WARNING:tensorflow:From /home/ec2-user/anaconda3/envs/tensorflow_p36/lib/python3.6/site-packages/tensorflow_core/__init__.py:1467: The name tf.estimator.inputs is deprecated. Please use tf.compat.v1.estimator.inputs instead.\n",
      "\n"
     ]
    },
    {
     "name": "stderr",
     "output_type": "stream",
     "text": [
      "Using TensorFlow backend.\n"
     ]
    }
   ],
   "source": [
    "import tensorflow as tf\n",
    "import IPython.display as display\n",
    "import numpy as np\n",
    "import matplotlib.pyplot as plt\n",
    "import os\n",
    "import pandas as pd\n",
    "import glob\n",
    "from PIL import Image\n",
    "from sklearn.model_selection import train_test_split\n",
    "from tensorflow.keras.models import Sequential, Model, load_model\n",
    "from tensorflow.keras.layers import Conv2D, MaxPooling2D, Lambda, Input\n",
    "from tensorflow.keras.layers import Activation, Dropout, Flatten, Dense\n",
    "from tensorflow.keras.metrics import categorical_accuracy\n",
    "from tensorflow.keras import regularizers, optimizers\n",
    "from tensorflow.keras.preprocessing.image import ImageDataGenerator\n",
    "from keras.preprocessing import image"
   ]
  },
  {
   "cell_type": "markdown",
   "metadata": {},
   "source": [
    "load data and categorized"
   ]
  },
  {
   "cell_type": "code",
   "execution_count": 2,
   "metadata": {},
   "outputs": [],
   "source": [
    "def load_img_data():\n",
    "    image_list = []\n",
    "    for filepath in glob.glob('trafficsigns_dataset/*/*/*.png', recursive = True):\n",
    "        filename = filepath.split(\"/\")[-1]\n",
    "        sign_shape = filepath.split(\"/\")[1]\n",
    "        sign_type = filepath.split(\"/\")[2]\n",
    "        image_list.append((filepath, sign_shape, sign_type))\n",
    "        \n",
    "    data = pd.DataFrame(data=image_list, columns=['image_path','sign_shape', 'sign_type'])\n",
    "    # Convert string labels to numeric\n",
    "    d = {'diamond':0, 'hex':1, 'round':2, 'square':3, 'triangle':4}\n",
    "    data['labels_num'] = data['sign_shape'].map(d, na_action='ignore')\n",
    "    return data"
   ]
  },
  {
   "cell_type": "markdown",
   "metadata": {},
   "source": [
    "split data into training, validating and testing data"
   ]
  },
  {
   "cell_type": "code",
   "execution_count": 3,
   "metadata": {},
   "outputs": [
    {
     "name": "stdout",
     "output_type": "stream",
     "text": [
      "Train size: 2959, Test size: 740\n"
     ]
    }
   ],
   "source": [
    "trainData, validationData = train_test_split(load_img_data(), test_size=0.2, random_state=1) # 0.25 x 0.8 = 0.2\n",
    "print('Train size: {}, Test size: {}'.format(trainData.shape[0], validationData.shape[0] ) )\n",
    "N_train_images = trainData.shape[0]\n",
    "N_val_images = validationData.shape[0]"
   ]
  },
  {
   "cell_type": "markdown",
   "metadata": {},
   "source": [
    "# Below are serveral of function defined for training\n",
    "create and config a deep learning model cnn. varioius configuration will be tuned to get the best model"
   ]
  },
  {
   "cell_type": "code",
   "execution_count": 4,
   "metadata": {},
   "outputs": [],
   "source": [
    "def create_model(shape):\n",
    "    model_cnn = Sequential()\n",
    "\n",
    "    # input\n",
    "    model_cnn.add(Input(shape=(28, 28, 3)))\n",
    "    model_cnn.add(Lambda(lambda x: tf.expand_dims(x[:,:,:,0], -1, name=None))) \n",
    "    # this is a workaround. Dataloader automatically read one channel image as 3 channel \n",
    "    #and we use Lambda layer to revert this back. Lambda layer can be used for operation \n",
    "    #that does not involve trainianble weights\n",
    "\n",
    "    # Conv Layer 1\n",
    "    model_cnn.add(Conv2D(16, (3, 3),kernel_regularizer=regularizers.l2(0.01)))\n",
    "    model_cnn.add(Activation('relu'))\n",
    "    model_cnn.add(MaxPooling2D(pool_size=(2, 2)))\n",
    "\n",
    "    # MLP\n",
    "    model_cnn.add(Flatten())  # this converts our 3D feature maps to 1D feature vectors\n",
    "    model_cnn.add(Dense(64))\n",
    "    model_cnn.add(Activation('relu'))\n",
    "    model_cnn.add(Dropout(0.5))\n",
    "    model_cnn.add(Dense(shape))\n",
    "    model_cnn.add(Activation('softmax'))\n",
    "\n",
    "    sgd = optimizers.SGD(lr=0.01, decay=1e-6)\n",
    "    model_cnn.compile(loss='categorical_crossentropy',\n",
    "                  optimizer=sgd,\n",
    "                  metrics=[categorical_accuracy])\n",
    "\n",
    "    # save the weights so that we can start from the same place when tring different configurations\n",
    "    model_cnn.save_weights('model.h5')\n",
    "\n",
    "    return model_cnn"
   ]
  },
  {
   "cell_type": "markdown",
   "metadata": {},
   "source": [
    "train the model and validate"
   ]
  },
  {
   "cell_type": "code",
   "execution_count": 5,
   "metadata": {},
   "outputs": [],
   "source": [
    "def train_model(model_, train_generator_in, validation_generator_in, num_epoch=50, verbose=False):\n",
    "    batch_size = 16\n",
    "    res = []\n",
    "    for e in range(num_epoch):\n",
    "        # print('Epoch', e)\n",
    "        batches = 0\n",
    "\n",
    "        loss_ = []\n",
    "        acc_ = []\n",
    "\n",
    "         # iterate over each batch\n",
    "        for x,y in train_generator_in:\n",
    "            loss, acc = model_.train_on_batch(x, y) # Update weights and return train loss, acc per batch\n",
    "            loss_.append(loss)\n",
    "            acc_.append(acc)\n",
    "            batches += 1\n",
    "            if batches >= N_train_images / batch_size:\n",
    "                # we need to break the loop by hand because\n",
    "                # the generator loops indefinitely\n",
    "                break\n",
    "        loss_ = np.mean(loss_)\n",
    "        acc_ = np.mean(acc_)\n",
    "\n",
    "        loss, acc = calculate_losses(model_, validation_generator_in, N_val_images, batch_size)\n",
    "        if verbose:\n",
    "            print(\"Training epoch {}: Loss = {}, Accuracy = {}\".format(e, loss_, acc_))\n",
    "            print(\"Validation epoch {}: Loss = {}, Accuracy = {}\".format(e, loss, acc))\n",
    "\n",
    "        res.append((e, loss_, acc_, loss, acc))\n",
    "    return np.asarray(res)"
   ]
  },
  {
   "cell_type": "markdown",
   "metadata": {},
   "source": [
    "draw the graph and print numerical accuracy for evaluation"
   ]
  },
  {
   "cell_type": "code",
   "execution_count": 16,
   "metadata": {},
   "outputs": [],
   "source": [
    "def plot_results(res):\n",
    "    plt.figure(figsize=(12,4))\n",
    "    plt.subplot(1,2,1)\n",
    "    plt.plot(res[:,0], res[:,1], 'r-')\n",
    "    plt.plot(res[:,0], res[:,3], 'b-')\n",
    "    plt.legend(['Train', 'Validation'])\n",
    "    plt.xlabel('epoch')\n",
    "    plt.ylabel('Loss')\n",
    "    plt.ylim([0, np.max([5., np.max(res[:,1]), np.max(res[:,3])])])\n",
    "    print(\"Losses: \", res[:,3]);\n",
    "    plt.savefig('losses.png')\n",
    "\n",
    "    plt.subplot(1,2,2)\n",
    "    plt.plot(res[:,0], res[:,2], 'r-')\n",
    "    plt.plot(res[:,0], res[:,4], 'b-')\n",
    "    plt.legend(['Train', 'Validation'])\n",
    "    plt.xlabel('epoch')\n",
    "    plt.ylabel('Accuracy')\n",
    "    plt.ylim([0, np.max([1., np.max(res[:,2]), np.max(res[:,4])])])\n",
    "    \n",
    "    print(\"Accuracy: \", res[:,4]);\n",
    "    plt.savefig('accuracy.png')"
   ]
  },
  {
   "cell_type": "markdown",
   "metadata": {},
   "source": [
    "calculate losses"
   ]
  },
  {
   "cell_type": "code",
   "execution_count": 7,
   "metadata": {},
   "outputs": [],
   "source": [
    "def calculate_losses(model_in, data_generator_in, N_images, batch_size_):\n",
    "    loss_hold = []\n",
    "    acc_hold = []\n",
    "    batches = 0\n",
    "    \n",
    "    # iterate over each batch\n",
    "    for x,y in data_generator_in:\n",
    "        loss, acc = model_in.evaluate(x, y, verbose=0)\n",
    "        loss_hold.append(loss)\n",
    "        acc_hold.append(acc)\n",
    "        batches += 1\n",
    "        if batches >= N_images / batch_size_:\n",
    "            # we need to break the loop by hand because\n",
    "            # the generator loops indefinitely\n",
    "            break\n",
    "            \n",
    "    return np.mean(loss_hold), np.mean(acc_hold)"
   ]
  },
  {
   "cell_type": "markdown",
   "metadata": {},
   "source": [
    "generate traning and validating/testing data to fit the model"
   ]
  },
  {
   "cell_type": "code",
   "execution_count": 8,
   "metadata": {},
   "outputs": [],
   "source": [
    "def data_generator(trainData, testData, target):\n",
    "    train_datagen = ImageDataGenerator(rescale=1./255, data_format='channels_last')\n",
    "    val_datagen = ImageDataGenerator(rescale=1./255, data_format='channels_last')\n",
    "\n",
    "    batch_size = 16\n",
    "\n",
    "    train_generator = train_datagen.flow_from_dataframe(\n",
    "            dataframe=trainData,\n",
    "            directory='./',\n",
    "            x_col=\"image_path\",\n",
    "            y_col=target,\n",
    "            target_size=(28, 28),\n",
    "            batch_size=batch_size,\n",
    "            class_mode='categorical')\n",
    "\n",
    "    validation_generator = val_datagen.flow_from_dataframe(\n",
    "            dataframe=testData,\n",
    "            directory='./',\n",
    "            x_col=\"image_path\",\n",
    "            y_col=target,\n",
    "            target_size=(28, 28),\n",
    "            batch_size=batch_size,\n",
    "            class_mode='categorical')\n",
    "    return train_generator, validation_generator"
   ]
  },
  {
   "cell_type": "code",
   "execution_count": 14,
   "metadata": {},
   "outputs": [
    {
     "name": "stdout",
     "output_type": "stream",
     "text": [
      "Found 2959 validated image filenames belonging to 5 classes.\n",
      "Found 740 validated image filenames belonging to 5 classes.\n",
      "Losses:  [1.07308003 0.86679049 0.67167136 0.55864984 0.46589882 0.41276894\n",
      " 0.38045933 0.33764927 0.3075288  0.29475049 0.28133086 0.27345598\n",
      " 0.25720503 0.24036134 0.22371416 0.21559708 0.20719163 0.19727828\n",
      " 0.19274958 0.18875785 0.17851613 0.19467434 0.17375815 0.18762245\n",
      " 0.17006194 0.15995538 0.15715525 0.15461575 0.15985338 0.14930079\n",
      " 0.14574384 0.15314128 0.14579846 0.14285503 0.15298294 0.13344661\n",
      " 0.13285701 0.13297317 0.13048837 0.12847314 0.13008816 0.12596836\n",
      " 0.12191702 0.12090615 0.12328038 0.12032942 0.11696047 0.11665159\n",
      " 0.11730981 0.11119402 0.11918105 0.10922475 0.11213155 0.11748469\n",
      " 0.10696149 0.10628507 0.10529413 0.10195072 0.10478099 0.10193448\n",
      " 0.10249776 0.10182952 0.10589749 0.10368595 0.0982767  0.0976105\n",
      " 0.0985685  0.10047984 0.10102272 0.09918759 0.12625068 0.09634047\n",
      " 0.09381515 0.09325156 0.09460131 0.09792481 0.09219967 0.09657736\n",
      " 0.09122977 0.09084164 0.08962281 0.0893566  0.0902479  0.09174358\n",
      " 0.09209537 0.0898387  0.0896658  0.08784558 0.08620018 0.08720195\n",
      " 0.0887168  0.08519693 0.08513072 0.08435381 0.08701505 0.08483346\n",
      " 0.08823299 0.08456601 0.08711752 0.08896335]\n"
     ]
    },
    {
     "ename": "NameError",
     "evalue": "name 'savefig' is not defined",
     "output_type": "error",
     "traceback": [
      "\u001b[0;31m---------------------------------------------------------------------------\u001b[0m",
      "\u001b[0;31mNameError\u001b[0m                                 Traceback (most recent call last)",
      "\u001b[0;32m<ipython-input-14-1667723c39e7>\u001b[0m in \u001b[0;36m<module>\u001b[0;34m()\u001b[0m\n\u001b[1;32m      2\u001b[0m \u001b[0mtrain_generator\u001b[0m\u001b[0;34m,\u001b[0m \u001b[0mvalidation_generator\u001b[0m \u001b[0;34m=\u001b[0m \u001b[0mdata_generator\u001b[0m\u001b[0;34m(\u001b[0m\u001b[0mtrainData\u001b[0m\u001b[0;34m,\u001b[0m \u001b[0mvalidationData\u001b[0m\u001b[0;34m,\u001b[0m \u001b[0;34m\"sign_shape\"\u001b[0m\u001b[0;34m)\u001b[0m\u001b[0;34m\u001b[0m\u001b[0m\n\u001b[1;32m      3\u001b[0m \u001b[0mres\u001b[0m \u001b[0;34m=\u001b[0m \u001b[0mtrain_model\u001b[0m\u001b[0;34m(\u001b[0m\u001b[0mmodelcnn\u001b[0m\u001b[0;34m,\u001b[0m \u001b[0mtrain_generator\u001b[0m\u001b[0;34m,\u001b[0m \u001b[0mvalidation_generator\u001b[0m\u001b[0;34m,\u001b[0m \u001b[0mnum_epoch\u001b[0m\u001b[0;34m=\u001b[0m\u001b[0;36m100\u001b[0m\u001b[0;34m,\u001b[0m \u001b[0mverbose\u001b[0m\u001b[0;34m=\u001b[0m\u001b[0;32mFalse\u001b[0m\u001b[0;34m)\u001b[0m\u001b[0;34m\u001b[0m\u001b[0m\n\u001b[0;32m----> 4\u001b[0;31m \u001b[0mplot_results\u001b[0m\u001b[0;34m(\u001b[0m\u001b[0mres\u001b[0m\u001b[0;34m)\u001b[0m\u001b[0;34m\u001b[0m\u001b[0m\n\u001b[0m",
      "\u001b[0;32m<ipython-input-13-0f8ba1c9c8b2>\u001b[0m in \u001b[0;36mplot_results\u001b[0;34m(res)\u001b[0m\n\u001b[1;32m      9\u001b[0m     \u001b[0mplt\u001b[0m\u001b[0;34m.\u001b[0m\u001b[0mylim\u001b[0m\u001b[0;34m(\u001b[0m\u001b[0;34m[\u001b[0m\u001b[0;36m0\u001b[0m\u001b[0;34m,\u001b[0m \u001b[0mnp\u001b[0m\u001b[0;34m.\u001b[0m\u001b[0mmax\u001b[0m\u001b[0;34m(\u001b[0m\u001b[0;34m[\u001b[0m\u001b[0;36m5.\u001b[0m\u001b[0;34m,\u001b[0m \u001b[0mnp\u001b[0m\u001b[0;34m.\u001b[0m\u001b[0mmax\u001b[0m\u001b[0;34m(\u001b[0m\u001b[0mres\u001b[0m\u001b[0;34m[\u001b[0m\u001b[0;34m:\u001b[0m\u001b[0;34m,\u001b[0m\u001b[0;36m1\u001b[0m\u001b[0;34m]\u001b[0m\u001b[0;34m)\u001b[0m\u001b[0;34m,\u001b[0m \u001b[0mnp\u001b[0m\u001b[0;34m.\u001b[0m\u001b[0mmax\u001b[0m\u001b[0;34m(\u001b[0m\u001b[0mres\u001b[0m\u001b[0;34m[\u001b[0m\u001b[0;34m:\u001b[0m\u001b[0;34m,\u001b[0m\u001b[0;36m3\u001b[0m\u001b[0;34m]\u001b[0m\u001b[0;34m)\u001b[0m\u001b[0;34m]\u001b[0m\u001b[0;34m)\u001b[0m\u001b[0;34m]\u001b[0m\u001b[0;34m)\u001b[0m\u001b[0;34m\u001b[0m\u001b[0m\n\u001b[1;32m     10\u001b[0m     \u001b[0mprint\u001b[0m\u001b[0;34m(\u001b[0m\u001b[0;34m\"Losses: \"\u001b[0m\u001b[0;34m,\u001b[0m \u001b[0mres\u001b[0m\u001b[0;34m[\u001b[0m\u001b[0;34m:\u001b[0m\u001b[0;34m,\u001b[0m\u001b[0;36m3\u001b[0m\u001b[0;34m]\u001b[0m\u001b[0;34m)\u001b[0m\u001b[0;34m;\u001b[0m\u001b[0;34m\u001b[0m\u001b[0m\n\u001b[0;32m---> 11\u001b[0;31m     \u001b[0msavefig\u001b[0m\u001b[0;34m(\u001b[0m\u001b[0;34m'losses.png'\u001b[0m\u001b[0;34m)\u001b[0m\u001b[0;34m\u001b[0m\u001b[0m\n\u001b[0m\u001b[1;32m     12\u001b[0m \u001b[0;34m\u001b[0m\u001b[0m\n\u001b[1;32m     13\u001b[0m     \u001b[0mplt\u001b[0m\u001b[0;34m.\u001b[0m\u001b[0msubplot\u001b[0m\u001b[0;34m(\u001b[0m\u001b[0;36m1\u001b[0m\u001b[0;34m,\u001b[0m\u001b[0;36m2\u001b[0m\u001b[0;34m,\u001b[0m\u001b[0;36m2\u001b[0m\u001b[0;34m)\u001b[0m\u001b[0;34m\u001b[0m\u001b[0m\n",
      "\u001b[0;31mNameError\u001b[0m: name 'savefig' is not defined"
     ]
    },
    {
     "data": {
      "image/png": "[encoded data removed]",
      "text/plain": [
       "<Figure size 864x288 with 1 Axes>"
      ]
     },
     "metadata": {},
     "output_type": "display_data"
    }
   ],
   "source": [
    "modelcnn = create_model(5)\n",
    "train_generator, validation_generator = data_generator(trainData, validationData, \"sign_shape\")\n",
    "res = train_model(modelcnn, train_generator, validation_generator, num_epoch=100, verbose=False)\n",
    "plot_results(res)"
   ]
  },
  {
   "cell_type": "code",
   "execution_count": 10,
   "metadata": {},
   "outputs": [
    {
     "name": "stdout",
     "output_type": "stream",
     "text": [
      "Found 2959 validated image filenames belonging to 16 classes.\n",
      "Found 740 validated image filenames belonging to 16 classes.\n",
      "Accuracy:  [0.31781915 0.65026593 0.68617022 0.75       0.78590423 0.8018617\n",
      " 0.84308511 0.84973407 0.87765956 0.8856383  0.89893615 0.88962764\n",
      " 0.89760637 0.90159577 0.90957445 0.90558511 0.91622341 0.9375\n",
      " 0.91489363 0.90425533 0.9268617  0.93218082 0.93351066 0.92819148\n",
      " 0.9268617  0.93484044 0.93351066 0.9481383  0.94148934 0.93882978\n",
      " 0.94547874 0.95079786 0.94946808 0.95079786 0.95079786 0.94547874\n",
      " 0.95345747 0.95212764 0.95877659 0.95212764 0.95744681 0.96143615\n",
      " 0.95478725 0.95744681 0.96010637 0.95744681 0.95079786 0.95611703\n",
      " 0.95877659 0.96542555 0.95611703 0.95611703 0.95478725 0.96276593\n",
      " 0.95877659 0.95212764 0.96276593 0.96941489 0.96409577 0.95744681\n",
      " 0.96675533 0.96276593 0.96542555 0.96808511 0.96409577 0.96941489\n",
      " 0.96941489 0.96941489 0.96675533 0.96542555 0.95744681 0.96808511\n",
      " 0.96808511 0.96675533 0.96675533 0.96808511 0.96675533 0.96941489\n",
      " 0.97074467 0.97074467 0.97207445 0.97074467 0.96542555 0.96808511\n",
      " 0.97074467 0.97473407 0.96808511 0.97473407 0.96808511 0.96675533\n",
      " 0.96675533 0.97340423 0.96675533 0.97074467 0.96276593 0.97207445\n",
      " 0.97340423 0.97207445 0.97207445 0.97074467]\n"
     ]
    },
    {
     "data": {
      "image/png": "[encoded data removed]",
      "text/plain": [
       "<Figure size 864x288 with 2 Axes>"
      ]
     },
     "metadata": {},
     "output_type": "display_data"
    }
   ],
   "source": [
    "modelcnn = create_model(16)\n",
    "train_generator, validation_generator = data_generator(trainData, validationData, \"sign_type\")\n",
    "res = train_model(modelcnn, train_generator, validation_generator, num_epoch=1, verbose=False)\n",
    "plot_results(res)"
   ]
  },
  {
   "cell_type": "code",
   "execution_count": null,
   "metadata": {},
   "outputs": [],
   "source": []
  },
  {
   "cell_type": "code",
   "execution_count": null,
   "metadata": {},
   "outputs": [],
   "source": []
  },
  {
   "cell_type": "code",
   "execution_count": 18,
   "metadata": {},
   "outputs": [],
   "source": [
    "import shutil\n",
    "shutil.rmtree('./_MACOSX/faces_TM', ignore_errors=True)"
   ]
  },
  {
   "cell_type": "code",
   "execution_count": null,
   "metadata": {},
   "outputs": [],
   "source": []
  }
 ],
 "metadata": {
  "kernelspec": {
   "display_name": "conda_tensorflow_p36",
   "language": "python",
   "name": "conda_tensorflow_p36"
  },
  "language_info": {
   "codemirror_mode": {
    "name": "ipython",
    "version": 3
   },
   "file_extension": ".py",
   "mimetype": "text/x-python",
   "name": "python",
   "nbconvert_exporter": "python",
   "pygments_lexer": "ipython3",
   "version": "3.6.6"
  }
 },
 "nbformat": 4,
 "nbformat_minor": 4
}
