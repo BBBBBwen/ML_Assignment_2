{
 "cells": [
  {
   "cell_type": "markdown",
   "metadata": {},
   "source": [
    "# Assignment2 Classify Images of Road Traffic Signs\n",
    "Load necessary packages"
   ]
  },
  {
   "cell_type": "code",
   "execution_count": 1,
   "metadata": {},
   "outputs": [
    {
     "name": "stdout",
     "output_type": "stream",
     "text": [
      "WARNING:tensorflow:From /home/ec2-user/anaconda3/envs/tensorflow_p36/lib/python3.6/site-packages/tensorflow_core/__init__.py:1467: The name tf.estimator.inputs is deprecated. Please use tf.compat.v1.estimator.inputs instead.\n",
      "\n"
     ]
    },
    {
     "name": "stderr",
     "output_type": "stream",
     "text": [
      "Using TensorFlow backend.\n"
     ]
    }
   ],
   "source": [
    "import tensorflow as tf\n",
    "import IPython.display as display\n",
    "import numpy as np\n",
    "import matplotlib.pyplot as plt\n",
    "import os\n",
    "import pandas as pd\n",
    "import glob\n",
    "import skimage\n",
    "from PIL import Image\n",
    "from pathlib import Path\n",
    "from sklearn import svm, metrics, datasets\n",
    "from sklearn.utils import Bunch\n",
    "from sklearn.model_selection import GridSearchCV, train_test_split\n",
    "from skimage.io import imread\n",
    "from skimage.transform import resize\n",
    "from tensorflow.keras.models import Sequential, Model, load_model\n",
    "from tensorflow.keras.layers import Conv2D, MaxPooling2D, Lambda, Input\n",
    "from tensorflow.keras.layers import Activation, Dropout, Flatten, Dense\n",
    "from tensorflow.keras.metrics import categorical_accuracy\n",
    "from tensorflow.keras import regularizers, optimizers\n",
    "from tensorflow.keras.preprocessing.image import ImageDataGenerator\n",
    "from keras.preprocessing import image\n",
    "\n",
    "# use following command if cannot import skimage, then restart kernel\n",
    "# !conda install -c conda-forge scikit-image --yes\n",
    "%matplotlib notebook"
   ]
  },
  {
   "cell_type": "markdown",
   "metadata": {},
   "source": [
    "load data and categorized"
   ]
  },
  {
   "cell_type": "code",
   "execution_count": 2,
   "metadata": {},
   "outputs": [],
   "source": [
    "def load_img_data():\n",
    "    image_list = []\n",
    "    #transfer file name to target name\n",
    "    for filepath in glob.glob('trafficsigns_dataset/*/*/*.png', recursive = True):\n",
    "        filename = filepath.split(\"/\")[-1]\n",
    "        sign_shape = filepath.split(\"/\")[1]\n",
    "        sign_type = filepath.split(\"/\")[2]\n",
    "        image_list.append((filepath, sign_shape, sign_type))\n",
    "        \n",
    "    data = pd.DataFrame(data=image_list, columns=['image_path','sign_shape', 'sign_type'])\n",
    "    return data"
   ]
  },
  {
   "cell_type": "markdown",
   "metadata": {},
   "source": [
    "split data into training, validating data. not spliting into validating data is because we will be using other images for testing"
   ]
  },
  {
   "cell_type": "code",
   "execution_count": 3,
   "metadata": {},
   "outputs": [
    {
     "name": "stdout",
     "output_type": "stream",
     "text": [
      "Train size: 2954, Test size: 739\n"
     ]
    }
   ],
   "source": [
    "trainData, validationData = train_test_split(load_img_data(), test_size=0.2, random_state=1) # 0.25 x 0.8 = 0.2\n",
    "print('Train size: {}, Test size: {}'.format(trainData.shape[0], validationData.shape[0] ) )\n",
    "train_size = trainData.shape[0]\n",
    "validation_size = validationData.shape[0]"
   ]
  },
  {
   "cell_type": "markdown",
   "metadata": {},
   "source": [
    "# Below are serveral of function defined for training\n",
    "create and config a deep learning model cnn. varioius configuration will be tuned to get the best model in a single function"
   ]
  },
  {
   "cell_type": "markdown",
   "metadata": {},
   "source": [
    "def data_generator(trainData, testData, target):\n",
    "    train_datagen = ImageDataGenerator(rescale=1./255, data_format='channels_last')\n",
    "    val_datagen = ImageDataGenerator(rescale=1./255, data_format='channels_last')\n",
    "\n",
    "    batch_size = 16\n",
    "\n",
    "    train_generator = train_datagen.flow_from_dataframe(\n",
    "            dataframe=trainData,\n",
    "            directory='./',\n",
    "            x_col=\"image_path\",\n",
    "            y_col=target,\n",
    "            target_size=(28, 28),\n",
    "            batch_size=batch_size,\n",
    "            class_mode='categorical')\n",
    "\n",
    "    validation_generator = val_datagen.flow_from_dataframe(\n",
    "            dataframe=testData,\n",
    "            directory='./',\n",
    "            x_col=\"image_path\",\n",
    "            y_col=target,\n",
    "            target_size=(28, 28),\n",
    "            batch_size=batch_size,\n",
    "            class_mode='categorical')\n",
    "    return train_generator, validation_generator"
   ]
  },
  {
   "cell_type": "code",
   "execution_count": null,
   "metadata": {},
   "outputs": [],
   "source": [
    "since we need to tunning seperatly, it is better to seperate the function"
   ]
  },
  {
   "cell_type": "code",
   "execution_count": 5,
   "metadata": {},
   "outputs": [],
   "source": [
    "def create_model_for_shapes():\n",
    "    model = Sequential()\n",
    "\n",
    "    # input\n",
    "    model.add(Input(shape=(28, 28, 3)))\n",
    "    # change back to 1 channel\n",
    "    model.add(Lambda(lambda x: tf.expand_dims(x[:,:,:,0], -1, name=None))) \n",
    "\n",
    "    # Layer 1 with 32 depth, 3x3 kernel, weight 0.01\n",
    "    model.add(Conv2D(16, (5, 5),kernel_regularizer=regularizers.l2(0.001)))\n",
    "    model.add(Activation('relu'))\n",
    "    model.add(MaxPooling2D(pool_size=(2, 2)))\n",
    "    \n",
    "    # MLP\n",
    "    v.add(Flatten())  # this converts feature maps to 1D feature vectors\n",
    "    model.add(Dense(64))\n",
    "    model.add(Activation('relu'))\n",
    "    model.add(Dropout(0.5))\n",
    "    model.add(Dense(5))\n",
    "    model.add(Activation('softmax'))\n",
    "\n",
    "    sgd = optimizers.SGD(lr=0.01, decay=1e-6, momentum=0.9, nesterov=True)\n",
    "    model.compile(loss='categorical_crossentropy', optimizer=sgd, metrics=[categorical_accuracy])\n",
    "\n",
    "    return model"
   ]
  },
  {
   "cell_type": "code",
   "execution_count": 6,
   "metadata": {},
   "outputs": [],
   "source": [
    "def create_model_for_types():\n",
    "    model = Sequential()\n",
    "\n",
    "    # input\n",
    "    model.add(Input(shape=(28, 28, 3)))\n",
    "    # change back to 1 channel\n",
    "    model.add(Lambda(lambda x: tf.expand_dims(x[:,:,:,0], -1, name=None))) \n",
    "\n",
    "    # Layer 1 with 32 depth, 3x3 kernel, weight 0.001\n",
    "    model.add(Conv2D(32, (3, 3),kernel_regularizer=regularizers.l2(0.001)))\n",
    "    model.add(Activation('relu'))\n",
    "    model.add(MaxPooling2D(pool_size=(2, 2)))\n",
    "    \n",
    "    # Layer 1 with 32 depth, 3x3 kernel, weight 0.001\n",
    "    model.add(Conv2D(32, (3, 3),kernel_regularizer=regularizers.l2(0.001)))\n",
    "    model.add(Activation('relu'))\n",
    "    model.add(MaxPooling2D(pool_size=(2, 2)))\n",
    "    \n",
    "    # MLP\n",
    "    model.add(Flatten())  # converts to 1D feature vectors\n",
    "    model.add(Dense(64))\n",
    "    model.add(Activation('relu'))\n",
    "    model.add(Dropout(0.5))\n",
    "    model.add(Dense(16))\n",
    "    model.add(Activation('softmax')) # final layer\n",
    "\n",
    "    sgd = optimizers.SGD(lr=0.01, decay=1e-6, momentum=0.9, nesterov=True)\n",
    "    model.compile(loss='categorical_crossentropy', optimizer=sgd, metrics=[categorical_accuracy])\n",
    "\n",
    "    return model"
   ]
  },
  {
   "cell_type": "markdown",
   "metadata": {},
   "source": [
    "train the model and validate"
   ]
  },
  {
   "cell_type": "code",
   "execution_count": 7,
   "metadata": {},
   "outputs": [],
   "source": [
    "def train_model(model_, train_generator_in, validation_generator_in, num_epoch=50, verbose=False):\n",
    "    batch_size = 16\n",
    "    res = []\n",
    "    for e in range(num_epoch):\n",
    "        batches = 0\n",
    "\n",
    "        loss_ = []\n",
    "        acc_ = []\n",
    "\n",
    "         # iterate over each batch\n",
    "        for x,y in train_generator_in:\n",
    "            loss, acc = model_.train_on_batch(x, y) # actual trainning and return looses and accuracy per batch\n",
    "            loss_.append(loss)\n",
    "            acc_.append(acc)\n",
    "            batches += 1\n",
    "            if batches >= train_size / batch_size:\n",
    "                # break when needed\n",
    "                break\n",
    "        loss_ = np.mean(loss_)\n",
    "        acc_ = np.mean(acc_)\n",
    "\n",
    "        loss, acc = calculate_losses(model_, validation_generator_in, validation_size, batch_size)\n",
    "        if verbose:\n",
    "            print(\"Training epoch {}: Loss = {}, Accuracy = {}\".format(e, loss_, acc_))\n",
    "            print(\"Validation epoch {}: Loss = {}, Accuracy = {}\".format(e, loss, acc))\n",
    "\n",
    "        res.append((e, loss_, acc_, loss, acc))\n",
    "    return np.asarray(res)"
   ]
  },
  {
   "cell_type": "markdown",
   "metadata": {},
   "source": [
    "evaluate the model by validating data."
   ]
  },
  {
   "cell_type": "code",
   "execution_count": 8,
   "metadata": {},
   "outputs": [],
   "source": [
    "def calculate_losses(model_in, data_generator_in, N_images, batch_size_):\n",
    "    loss_hold = []\n",
    "    acc_hold = []\n",
    "    batches = 0\n",
    "    \n",
    "    # iterate over each batch\n",
    "    for x,y in data_generator_in:\n",
    "        loss, acc = model_in.evaluate(x, y, verbose=0) # evalute the model and return looses and accuracy\n",
    "        loss_hold.append(loss)\n",
    "        acc_hold.append(acc)\n",
    "        batches += 1\n",
    "        if batches >= N_images / batch_size_:\n",
    "            # break when needed\n",
    "            break\n",
    "            \n",
    "    return np.mean(loss_hold), np.mean(acc_hold)"
   ]
  },
  {
   "cell_type": "markdown",
   "metadata": {},
   "source": [
    "draw the graph and print numerical accuracy for evaluation"
   ]
  },
  {
   "cell_type": "code",
   "execution_count": 9,
   "metadata": {},
   "outputs": [],
   "source": [
    "def plot_results(res):\n",
    "    plt.figure(figsize=(12,4))\n",
    "    plt.subplot(1,2,1)\n",
    "    plt.plot(res[:,0], res[:,1], 'r-')\n",
    "    plt.plot(res[:,0], res[:,3], 'b-')\n",
    "    plt.legend(['Train', 'Validation'])\n",
    "    plt.xlabel('epoch')\n",
    "    plt.ylabel('Loss')\n",
    "    plt.ylim([0, np.max([5., np.max(res[:,1]), np.max(res[:,3])])])\n",
    "    print(\"Losses: \", res[:,3]);\n",
    "\n",
    "    plt.subplot(1,2,2)\n",
    "    plt.plot(res[:,0], res[:,2], 'r-')\n",
    "    plt.plot(res[:,0], res[:,4], 'b-')\n",
    "    plt.legend(['Train', 'Validation'])\n",
    "    plt.xlabel('epoch')\n",
    "    plt.ylabel('Accuracy')\n",
    "    plt.ylim([0, np.max([1., np.max(res[:,2]), np.max(res[:,4])])])\n",
    "    \n",
    "    print(\"Accuracy: \", res[:,4]);"
   ]
  },
  {
   "cell_type": "markdown",
   "metadata": {},
   "source": [
    "generate traning and validating data to fit the model, after final tunning, 20 epoch is the best fit for shape and 80 is for types."
   ]
  },
  {
   "cell_type": "code",
   "execution_count": 10,
   "metadata": {},
   "outputs": [
    {
     "name": "stdout",
     "output_type": "stream",
     "text": [
      "WARNING:tensorflow:From /home/ec2-user/anaconda3/envs/tensorflow_p36/lib/python3.6/site-packages/tensorflow_core/python/ops/resource_variable_ops.py:1630: calling BaseResourceVariable.__init__ (from tensorflow.python.ops.resource_variable_ops) with constraint is deprecated and will be removed in a future version.\n",
      "Instructions for updating:\n",
      "If using Keras pass *_constraint arguments to layers.\n",
      "Found 2954 validated image filenames belonging to 5 classes.\n",
      "Found 739 validated image filenames belonging to 5 classes.\n",
      "WARNING:tensorflow:OMP_NUM_THREADS is no longer used by the default Keras config. To configure the number of threads, use tf.config.threading APIs.\n",
      "Losses:  [0.32377605 0.14973314 0.09122857 0.09164659 0.08096495 0.06470976\n",
      " 0.06286474 0.05770712 0.05092113 0.05608934 0.06423577 0.0652686\n",
      " 0.06416227 0.06172914 0.06194216 0.06227789 0.06411393 0.06087517\n",
      " 0.06333042 0.05714246]\n",
      "Accuracy:  [0.92154253 0.95567381 0.97739363 0.98005319 0.98404253 0.9893617\n",
      " 0.99335104 0.99202126 0.99202126 0.99069148 0.99069148 0.99069148\n",
      " 0.99202126 0.99468082 0.99069148 0.99202126 0.99069148 0.99468082\n",
      " 0.99202126 0.99202126]\n"
     ]
    },
    {
     "data": {
      "image/png": "[encoded data removed]",
      "text/plain": [
       "<Figure size 864x288 with 2 Axes>"
      ]
     },
     "metadata": {},
     "output_type": "display_data"
    }
   ],
   "source": [
    "model_shapes = create_model_for_shapes()\n",
    "train_generator, validation_generator = data_generator(trainData, validationData, \"sign_shape\")\n",
    "res = train_model(model_shapes, train_generator, validation_generator, num_epoch=20, verbose=False)\n",
    "plot_results(res)"
   ]
  },
  {
   "cell_type": "code",
   "execution_count": 11,
   "metadata": {},
   "outputs": [
    {
     "name": "stdout",
     "output_type": "stream",
     "text": [
      "Found 2954 validated image filenames belonging to 16 classes.\n",
      "Found 739 validated image filenames belonging to 16 classes.\n",
      "Losses:  [1.13206576 0.53558485 0.40294583 0.31501639 0.23802198 0.22838169\n",
      " 0.19068302 0.16351967 0.14607126 0.16689697 0.15806209 0.14251971\n",
      " 0.13109093 0.14148999 0.12928212 0.13864417 0.11798601 0.11971916\n",
      " 0.12326565 0.10424299 0.12141563 0.11738785 0.12670942 0.09991916\n",
      " 0.09591041 0.10168871 0.10628721 0.10112739 0.11067139 0.08967344\n",
      " 0.08971415 0.08509823 0.09218626 0.08991686 0.09680478 0.08680424\n",
      " 0.08603876 0.09658179 0.0832316  0.08763542 0.08381023 0.08052746\n",
      " 0.07560149 0.0848648  0.07858387 0.07469804 0.07546769 0.06883124\n",
      " 0.08999999 0.07480486 0.07581023 0.06747971 0.09420137 0.06998751\n",
      " 0.06810802 0.06847035 0.08363483 0.07343797 0.0688065  0.08283366\n",
      " 0.06429944 0.06734042 0.06353925 0.07795111 0.08235096 0.07479168\n",
      " 0.08728219 0.06751355 0.08685819 0.06731418 0.07499885 0.0629775\n",
      " 0.06521349 0.06886404 0.06528827 0.06373478 0.06887825 0.06450114\n",
      " 0.06166302 0.07137996]\n",
      "Accuracy:  [0.748227   0.86391848 0.91489363 0.92553192 0.95744681 0.95877659\n",
      " 0.97074467 0.96808511 0.97606385 0.97207445 0.97739363 0.98005319\n",
      " 0.98537236 0.97340423 0.98271275 0.97473407 0.98670214 0.98138297\n",
      " 0.98537236 0.9893617  0.98138297 0.98271275 0.97872341 0.98404253\n",
      " 0.98670214 0.98404253 0.98537236 0.98271275 0.98537236 0.98803192\n",
      " 0.98404253 0.9893617  0.98803192 0.99069148 0.98670214 0.9893617\n",
      " 0.9893617  0.98670214 0.98670214 0.98404253 0.98670214 0.9893617\n",
      " 0.99069148 0.98670214 0.9893617  0.99069148 0.98537236 0.9893617\n",
      " 0.98404253 0.98803192 0.98670214 0.9893617  0.97872341 0.9893617\n",
      " 0.98670214 0.99069148 0.98404253 0.98537236 0.98803192 0.98537236\n",
      " 0.9893617  0.9893617  0.9893617  0.98670214 0.97960997 0.98537236\n",
      " 0.98803192 0.9893617  0.98537236 0.98803192 0.98670214 0.9893617\n",
      " 0.9893617  0.99069148 0.9893617  0.98803192 0.99202126 0.99202126\n",
      " 0.99202126 0.98670214]\n"
     ]
    },
    {
     "data": {
      "image/png": "[encoded data removed]",
      "text/plain": [
       "<Figure size 864x288 with 2 Axes>"
      ]
     },
     "metadata": {},
     "output_type": "display_data"
    }
   ],
   "source": [
    "model_types = create_model_for_types()\n",
    "train_generator, validation_generator = data_generator(trainData, validationData, \"sign_type\")\n",
    "res = train_model(model_types, train_generator, validation_generator, num_epoch=80, verbose=False)\n",
    "plot_results(res)"
   ]
  },
  {
   "cell_type": "markdown",
   "metadata": {},
   "source": [
    "# for the actual model and testing test data."
   ]
  },
  {
   "cell_type": "code",
   "execution_count": 12,
   "metadata": {},
   "outputs": [],
   "source": [
    "def load_image(img_path):\n",
    "\n",
    "    img = image.load_img(img_path, target_size=(28, 28))\n",
    "    img_tensor = image.img_to_array(img)                    # (height, width, channels)\n",
    "    img_tensor = np.expand_dims(img_tensor, axis=0)         # (1, height, width, channels), add a dimension because the model expects this shape: (batch_size, height, width, channels)\n",
    "    img_tensor /= 255.                                      # imshow expects values in the range [0, 1]\n",
    "\n",
    "    plt.imshow(img_tensor[0])                           \n",
    "    plt.axis('off')\n",
    "    plt.show()\n",
    "\n",
    "    return img_tensor"
   ]
  },
  {
   "cell_type": "code",
   "execution_count": 13,
   "metadata": {},
   "outputs": [
    {
     "data": {
      "image/png": "[encoded data removed]",
      "text/plain": [
       "<Figure size 432x288 with 1 Axes>"
      ]
     },
     "metadata": {},
     "output_type": "display_data"
    }
   ],
   "source": [
    "img = load_image(\"./testing_data/00032_00002.png\");"
   ]
  },
  {
   "cell_type": "code",
   "execution_count": 14,
   "metadata": {},
   "outputs": [],
   "source": [
    "shapes = {'diamond', 'hex', 'round', 'square', 'triangle'}\n",
    "types = {'rightofway', 'stop', 'bicycle', 'limitedtraffic', 'noentry', 'noparking', 'roundabout', 'speed', \n",
    "             'trafficdirective', 'traveldirection', 'continue', 'crossing', 'laneen', 'parking', 'giveway', 'warning'}\n",
    "shapes = sorted(shapes)\n",
    "types = sorted(types)"
   ]
  },
  {
   "cell_type": "code",
   "execution_count": 15,
   "metadata": {},
   "outputs": [
    {
     "name": "stdout",
     "output_type": "stream",
     "text": [
      "diamond\n"
     ]
    }
   ],
   "source": [
    "pred = model_shapes.predict_classes(img, verbose=0)\n",
    "print(shapes[pred[0]])"
   ]
  },
  {
   "cell_type": "code",
   "execution_count": 16,
   "metadata": {},
   "outputs": [
    {
     "name": "stdout",
     "output_type": "stream",
     "text": [
      "rightofway\n"
     ]
    }
   ],
   "source": [
    "pred = model_types.predict_classes(img, verbose=0)\n",
    "print(types[pred[0]])"
   ]
  },
  {
   "cell_type": "markdown",
   "metadata": {},
   "source": [
    "# Support Vector Machines\n",
    "investage SVC alongside"
   ]
  },
  {
   "cell_type": "markdown",
   "metadata": {},
   "source": [
    "transform original data into a sklearn dataset"
   ]
  },
  {
   "cell_type": "code",
   "execution_count": 17,
   "metadata": {},
   "outputs": [],
   "source": [
    "def get_svc_dataset(data):\n",
    "    #all features\n",
    "    shapes = {'diamond', 'hex', 'round', 'square', 'triangle'}\n",
    "    types = {'rightofway', 'stop', 'bicycle', 'limitedtraffic', 'noentry', 'noparking', 'roundabout', 'speed', \n",
    "             'trafficdirective', 'traveldirection', 'continue', 'crossing', 'laneend', 'parking', 'giveway', 'warning'}\n",
    "    \n",
    "    #empty set\n",
    "    images = []\n",
    "    flat_data = []\n",
    "    shape_target = []\n",
    "    type_target = []\n",
    "    \n",
    "    #iterate pandas set and retirve nesserary data\n",
    "    for index, row in data.iterrows(): \n",
    "        img = skimage.io.imread(row['image_path'])\n",
    "        img_resized = resize(img, (28, 28), anti_aliasing=True, mode='reflect')\n",
    "        flat_data.append(img_resized.flatten()) \n",
    "        images.append(img_resized)\n",
    "        shape_target.append(row['sign_shape'])\n",
    "        type_target.append(row['sign_type'])\n",
    "        \n",
    "    #transform into pandas data set\n",
    "    flat_data = np.array(flat_data)\n",
    "    shape_target = np.array(shape_target)\n",
    "    type_target = np.array(type_target)\n",
    "    images = np.array(images)\n",
    "    \n",
    "    #return Bunch class\n",
    "    dataset_for_shape = Bunch(data=flat_data,target=shape_target,target_names=shapes,images=images)\n",
    "    dataset_for_type = Bunch(data=flat_data,target=type_target,target_names=types,images=images)\n",
    "    return dataset_for_shape, dataset_for_type"
   ]
  },
  {
   "cell_type": "markdown",
   "metadata": {},
   "source": [
    "split data into trainning and testing"
   ]
  },
  {
   "cell_type": "code",
   "execution_count": 18,
   "metadata": {},
   "outputs": [],
   "source": [
    "dataset_for_shape, dataset_for_type = get_svc_dataset(load_img_data())\n",
    "train_shape_X, test_shape_X, train_shape_Y, test_shape_Y = train_test_split(dataset_for_shape.data, dataset_for_shape.target, test_size=0.3,random_state=1)\n",
    "train_type_X, test_type_X, train_type_Y, test_type_Y = train_test_split(dataset_for_type.data, dataset_for_type.target, test_size=0.3,random_state=1)"
   ]
  },
  {
   "cell_type": "markdown",
   "metadata": {},
   "source": [
    "note the parameter here is for different model and modification"
   ]
  },
  {
   "cell_type": "code",
   "execution_count": 19,
   "metadata": {},
   "outputs": [],
   "source": [
    "parameter = [{'C': [1, 10, 100, 1000], 'kernel': ['linear']}, {'C': [1, 10, 100, 1000], 'gamma': [0.01, 0.001], 'kernel': ['rbf']},]"
   ]
  },
  {
   "cell_type": "markdown",
   "metadata": {},
   "source": [
    "below are two model for validate shape and type"
   ]
  },
  {
   "cell_type": "code",
   "execution_count": 20,
   "metadata": {},
   "outputs": [
    {
     "name": "stdout",
     "output_type": "stream",
     "text": [
      "GridSearchCV(cv=None, error_score=nan,\n",
      "             estimator=SVC(C=1.0, break_ties=False, cache_size=200,\n",
      "                           class_weight=None, coef0=0.0,\n",
      "                           decision_function_shape='ovr', degree=3,\n",
      "                           gamma='scale', kernel='rbf', max_iter=-1,\n",
      "                           probability=False, random_state=None, shrinking=True,\n",
      "                           tol=0.001, verbose=False),\n",
      "             iid='deprecated', n_jobs=None,\n",
      "             param_grid=[{'C': [1, 10, 100, 1000], 'kernel': ['linear']},\n",
      "                         {'C': [1, 10, 100, 1000], 'gamma': [0.01, 0.001],\n",
      "                          'kernel': ['rbf']}],\n",
      "             pre_dispatch='2*n_jobs', refit=True, return_train_score=False,\n",
      "             scoring=None, verbose=0)               precision    recall  f1-score   support\n",
      "\n",
      "     diamond       0.99      0.90      0.94       100\n",
      "         hex       1.00      0.92      0.96        12\n",
      "       round       0.96      1.00      0.98       516\n",
      "      square       0.99      0.95      0.97       187\n",
      "    triangle       0.99      0.97      0.98       293\n",
      "\n",
      "    accuracy                           0.97      1108\n",
      "   macro avg       0.99      0.95      0.97      1108\n",
      "weighted avg       0.97      0.97      0.97      1108\n",
      "\n"
     ]
    }
   ],
   "source": [
    "svc_shape = svm.SVC()\n",
    "model_shape = GridSearchCV(svc_shape, parameter)\n",
    "model_shape.fit(train_shape_X, train_shape_Y)\n",
    "pred_shape_Y = model_shape.predict(test_shape_X)\n",
    "print(model_shape, metrics.classification_report(test_shape_Y, pred_shape_Y))"
   ]
  },
  {
   "cell_type": "code",
   "execution_count": 21,
   "metadata": {},
   "outputs": [
    {
     "name": "stdout",
     "output_type": "stream",
     "text": [
      "GridSearchCV(cv=None, error_score=nan,\n",
      "             estimator=SVC(C=1.0, break_ties=False, cache_size=200,\n",
      "                           class_weight=None, coef0=0.0,\n",
      "                           decision_function_shape='ovr', degree=3,\n",
      "                           gamma='scale', kernel='rbf', max_iter=-1,\n",
      "                           probability=False, random_state=None, shrinking=True,\n",
      "                           tol=0.001, verbose=False),\n",
      "             iid='deprecated', n_jobs=None,\n",
      "             param_grid=[{'C': [1, 10, 100, 1000], 'kernel': ['linear']},\n",
      "                         {'C': [1, 10, 100, 1000], 'gamma': [0.01, 0.001],\n",
      "                          'kernel': ['rbf']}],\n",
      "             pre_dispatch='2*n_jobs', refit=True, return_train_score=False,\n",
      "             scoring=None, verbose=0)               precision    recall  f1-score   support\n",
      "\n",
      "     diamond       0.99      0.90      0.94       100\n",
      "         hex       1.00      0.92      0.96        12\n",
      "       round       0.96      1.00      0.98       516\n",
      "      square       0.99      0.95      0.97       187\n",
      "    triangle       0.99      0.97      0.98       293\n",
      "\n",
      "    accuracy                           0.97      1108\n",
      "   macro avg       0.99      0.95      0.97      1108\n",
      "weighted avg       0.97      0.97      0.97      1108\n",
      "\n"
     ]
    }
   ],
   "source": [
    "print(model_shape, metrics.classification_report(test_shape_Y, pred_shape_Y))"
   ]
  },
  {
   "cell_type": "code",
   "execution_count": 22,
   "metadata": {},
   "outputs": [
    {
     "name": "stdout",
     "output_type": "stream",
     "text": [
      "GridSearchCV(cv=None, error_score=nan,\n",
      "             estimator=SVC(C=1.0, break_ties=False, cache_size=200,\n",
      "                           class_weight=None, coef0=0.0,\n",
      "                           decision_function_shape='ovr', degree=3,\n",
      "                           gamma='scale', kernel='rbf', max_iter=-1,\n",
      "                           probability=False, random_state=None, shrinking=True,\n",
      "                           tol=0.001, verbose=False),\n",
      "             iid='deprecated', n_jobs=None,\n",
      "             param_grid=[{'C': [1, 10, 100, 1000], 'kernel': ['linear']},\n",
      "                         {'C': [1, 10, 100, 1000], 'gamma': [0.01, 0.001],\n",
      "                          'kernel': ['rbf']}],\n",
      "             pre_dispatch='2*n_jobs', refit=True, return_train_score=False,\n",
      "             scoring=None, verbose=0)                   precision    recall  f1-score   support\n",
      "\n",
      "         bicycle       0.92      0.98      0.95        86\n",
      "        continue       0.98      0.94      0.96        54\n",
      "        crossing       1.00      0.87      0.93        31\n",
      "         giveway       0.97      1.00      0.99        69\n",
      "         laneend       0.97      0.90      0.93        31\n",
      "  limitedtraffic       0.89      0.89      0.89        35\n",
      "         noentry       0.92      0.93      0.92       111\n",
      "       noparking       0.80      0.92      0.86        85\n",
      "         parking       1.00      0.97      0.99        71\n",
      "      rightofway       0.97      0.93      0.95       100\n",
      "      roundabout       0.97      0.94      0.95        33\n",
      "           speed       1.00      1.00      1.00        85\n",
      "            stop       1.00      0.92      0.96        12\n",
      "trafficdirective       1.00      0.96      0.98        52\n",
      " traveldirection       1.00      0.90      0.95        29\n",
      "         warning       0.98      0.99      0.98       224\n",
      "\n",
      "        accuracy                           0.95      1108\n",
      "       macro avg       0.96      0.94      0.95      1108\n",
      "    weighted avg       0.96      0.95      0.95      1108\n",
      "\n"
     ]
    }
   ],
   "source": [
    "svc_type = svm.SVC()\n",
    "model_type = GridSearchCV(svc_type, parameter)\n",
    "model_type.fit(train_type_X, train_type_Y)\n",
    "pred_type_Y = model_type.predict(test_type_X)\n",
    "print(model_type, metrics.classification_report(test_type_Y, pred_type_Y))"
   ]
  },
  {
   "cell_type": "code",
   "execution_count": null,
   "metadata": {},
   "outputs": [],
   "source": []
  }
 ],
 "metadata": {
  "kernelspec": {
   "display_name": "conda_tensorflow_p36",
   "language": "python",
   "name": "conda_tensorflow_p36"
  },
  "language_info": {
   "codemirror_mode": {
    "name": "ipython",
    "version": 3
   },
   "file_extension": ".py",
   "mimetype": "text/x-python",
   "name": "python",
   "nbconvert_exporter": "python",
   "pygments_lexer": "ipython3",
   "version": "3.6.6"
  }
 },
 "nbformat": 4,
 "nbformat_minor": 4
}
