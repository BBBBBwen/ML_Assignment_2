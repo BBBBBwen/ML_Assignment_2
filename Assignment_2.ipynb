{
 "cells": [
  {
   "cell_type": "markdown",
   "metadata": {},
   "source": [
    "# Assignment2 Classify Images of Road Traffic Signs\n",
    "Load necessary packages"
   ]
  },
  {
   "cell_type": "code",
   "execution_count": 1,
   "metadata": {},
   "outputs": [
    {
     "name": "stderr",
     "output_type": "stream",
     "text": [
      "Using TensorFlow backend.\n"
     ]
    }
   ],
   "source": [
    "import tensorflow as tf\n",
    "import IPython.display as display\n",
    "import numpy as np\n",
    "import matplotlib.pyplot as plt\n",
    "import os\n",
    "import pandas as pd\n",
    "import glob\n",
    "from PIL import Image\n",
    "from sklearn.model_selection import train_test_split\n",
    "from tensorflow.keras.models import Sequential, Model, load_model\n",
    "from tensorflow.keras.layers import Conv2D, MaxPooling2D, Lambda, Input\n",
    "from tensorflow.keras.layers import Activation, Dropout, Flatten, Dense\n",
    "from tensorflow.keras.metrics import categorical_accuracy\n",
    "from tensorflow.keras import regularizers, optimizers\n",
    "from tensorflow.keras.preprocessing.image import ImageDataGenerator\n",
    "from keras.preprocessing import image"
   ]
  },
  {
   "cell_type": "markdown",
   "metadata": {},
   "source": [
    "load data and categorized"
   ]
  },
  {
   "cell_type": "code",
   "execution_count": 2,
   "metadata": {},
   "outputs": [],
   "source": [
    "def load_img_data():\n",
    "    image_list = []\n",
    "    #transfer file name to target name\n",
    "    for filepath in glob.glob('trafficsigns_dataset/*/*/*.png', recursive = True):\n",
    "        filename = filepath.split(\"/\")[-1]\n",
    "        sign_shape = filepath.split(\"/\")[1]\n",
    "        sign_type = filepath.split(\"/\")[2]\n",
    "        image_list.append((filepath, sign_shape, sign_type))\n",
    "        \n",
    "    data = pd.DataFrame(data=image_list, columns=['image_path','sign_shape', 'sign_type'])\n",
    "    \n",
    "    # Convert string labels to numeric\n",
    "    shapes = {'diamond':0, 'hex':1, 'round':2, 'square':3, 'triangle':4}\n",
    "    types = {'rightofway':0, 'stop':1, 'bicycle':2, 'limitedtraffic':3, 'noentry':4, 'noparking':5, 'roundabout':6, 'speed':7, \n",
    "             'trafficdirective':8, 'traveldirection':9, 'continue':10, 'crossing':11, 'laneend':12, 'parking':13, 'giveway':14, 'warning':15}\n",
    "    data['shape_numeric'] = data['sign_shape'].map(shapes, na_action='ignore')\n",
    "    data['type_numeric'] = data['sign_shape'].map(types, na_action='ignore')\n",
    "    return data"
   ]
  },
  {
   "cell_type": "markdown",
   "metadata": {},
   "source": [
    "split data into training, validating data. not spliting into validating data is because we will be using other images for testing"
   ]
  },
  {
   "cell_type": "code",
   "execution_count": 3,
   "metadata": {},
   "outputs": [
    {
     "name": "stdout",
     "output_type": "stream",
     "text": [
      "Train size: 2954, Test size: 739\n"
     ]
    }
   ],
   "source": [
    "trainData, validationData = train_test_split(load_img_data(), test_size=0.2, random_state=1) # 0.25 x 0.8 = 0.2\n",
    "print('Train size: {}, Test size: {}'.format(trainData.shape[0], validationData.shape[0] ) )\n",
    "train_size = trainData.shape[0]\n",
    "validation_size = validationData.shape[0]"
   ]
  },
  {
   "cell_type": "markdown",
   "metadata": {},
   "source": [
    "# Below are serveral of function defined for training\n",
    "create and config a deep learning model cnn. varioius configuration will be tuned to get the best model in a single function"
   ]
  },
  {
   "cell_type": "code",
   "execution_count": 4,
   "metadata": {},
   "outputs": [],
   "source": [
    "def data_generator(trainData, testData, target):\n",
    "    train_datagen = ImageDataGenerator(rescale=1./255, data_format='channels_last')\n",
    "    val_datagen = ImageDataGenerator(rescale=1./255, data_format='channels_last')\n",
    "\n",
    "    batch_size = 16\n",
    "\n",
    "    train_generator = train_datagen.flow_from_dataframe(\n",
    "            dataframe=trainData,\n",
    "            directory='./',\n",
    "            x_col=\"image_path\",\n",
    "            y_col=target,\n",
    "            target_size=(28, 28),\n",
    "            batch_size=batch_size,\n",
    "            class_mode='categorical')\n",
    "\n",
    "    validation_generator = val_datagen.flow_from_dataframe(\n",
    "            dataframe=testData,\n",
    "            directory='./',\n",
    "            x_col=\"image_path\",\n",
    "            y_col=target,\n",
    "            target_size=(28, 28),\n",
    "            batch_size=batch_size,\n",
    "            class_mode='categorical')\n",
    "    return train_generator, validation_generator"
   ]
  },
  {
   "cell_type": "code",
   "execution_count": 5,
   "metadata": {},
   "outputs": [],
   "source": [
    "def create_model_for_shapes():\n",
    "    model_cnn = Sequential()\n",
    "\n",
    "    # input\n",
    "    model_cnn.add(Input(shape=(28, 28, 3)))\n",
    "    # change back to 1 channel\n",
    "    model_cnn.add(Lambda(lambda x: tf.expand_dims(x[:,:,:,0], -1, name=None))) \n",
    "\n",
    "    # Layer 1 with 32 depth, 3x3 kernel, weight 0.01\n",
    "    model_cnn.add(Conv2D(16, (5, 5),kernel_regularizer=regularizers.l2(0.001)))\n",
    "    model_cnn.add(Activation('relu'))\n",
    "    model_cnn.add(MaxPooling2D(pool_size=(2, 2)))\n",
    "    \n",
    "    # MLP\n",
    "    model_cnn.add(Flatten())  # this converts feature maps to 1D feature vectors\n",
    "    model_cnn.add(Dense(64))\n",
    "    model_cnn.add(Activation('relu'))\n",
    "    model_cnn.add(Dropout(0.5))\n",
    "    model_cnn.add(Dense(5))\n",
    "    model_cnn.add(Activation('softmax'))\n",
    "\n",
    "    sgd = optimizers.SGD(lr=0.01, decay=1e-6, momentum=0.9, nesterov=True)\n",
    "    model_cnn.compile(loss='categorical_crossentropy',\n",
    "                  optimizer=sgd,\n",
    "                  metrics=[categorical_accuracy])\n",
    "\n",
    "    return model_cnn"
   ]
  },
  {
   "cell_type": "code",
   "execution_count": 6,
   "metadata": {},
   "outputs": [],
   "source": [
    "def create_model_for_types():\n",
    "    model_cnn = Sequential()\n",
    "\n",
    "    # input\n",
    "    model_cnn.add(Input(shape=(28, 28, 3)))\n",
    "    # change back to 1 channel\n",
    "    model_cnn.add(Lambda(lambda x: tf.expand_dims(x[:,:,:,0], -1, name=None))) \n",
    "\n",
    "    # Layer 1 with 32 depth, 3x3 kernel, weight 0.001\n",
    "    model_cnn.add(Conv2D(32, (3, 3),kernel_regularizer=regularizers.l2(0.001)))\n",
    "    model_cnn.add(Activation('relu'))\n",
    "    model_cnn.add(MaxPooling2D(pool_size=(2, 2)))\n",
    "    \n",
    "    # Layer 1 with 32 depth, 3x3 kernel, weight 0.001\n",
    "    model_cnn.add(Conv2D(32, (3, 3),kernel_regularizer=regularizers.l2(0.001)))\n",
    "    model_cnn.add(Activation('relu'))\n",
    "    model_cnn.add(MaxPooling2D(pool_size=(2, 2)))\n",
    "    \n",
    "    # MLP\n",
    "    model_cnn.add(Flatten())  # this converts feature maps to 1D feature vectors\n",
    "    model_cnn.add(Dense(64))\n",
    "    model_cnn.add(Activation('relu'))\n",
    "    model_cnn.add(Dropout(0.5))\n",
    "    model_cnn.add(Dense(16))\n",
    "    model_cnn.add(Activation('softmax'))\n",
    "\n",
    "    sgd = optimizers.SGD(lr=0.01, decay=1e-6, momentum=0.9, nesterov=True)\n",
    "    model_cnn.compile(loss='categorical_crossentropy',\n",
    "                  optimizer=sgd,\n",
    "                  metrics=[categorical_accuracy])\n",
    "\n",
    "    return model_cnn"
   ]
  },
  {
   "cell_type": "markdown",
   "metadata": {},
   "source": [
    "train the model and validate"
   ]
  },
  {
   "cell_type": "code",
   "execution_count": 7,
   "metadata": {},
   "outputs": [],
   "source": [
    "def train_model(model_, train_generator_in, validation_generator_in, num_epoch=50, verbose=False):\n",
    "    batch_size = 16\n",
    "    res = []\n",
    "    for e in range(num_epoch):\n",
    "        # print('Epoch', e)\n",
    "        batches = 0\n",
    "\n",
    "        loss_ = []\n",
    "        acc_ = []\n",
    "\n",
    "         # iterate over each batch\n",
    "        for x,y in train_generator_in:\n",
    "            loss, acc = model_.train_on_batch(x, y) # Update weights and return train loss, acc per batch\n",
    "            loss_.append(loss)\n",
    "            acc_.append(acc)\n",
    "            batches += 1\n",
    "            if batches >= train_size / batch_size:\n",
    "                # break when needed\n",
    "                break\n",
    "        loss_ = np.mean(loss_)\n",
    "        acc_ = np.mean(acc_)\n",
    "\n",
    "        loss, acc = calculate_losses(model_, validation_generator_in, validation_size, batch_size)\n",
    "        if verbose:\n",
    "            print(\"Training epoch {}: Loss = {}, Accuracy = {}\".format(e, loss_, acc_))\n",
    "            print(\"Validation epoch {}: Loss = {}, Accuracy = {}\".format(e, loss, acc))\n",
    "\n",
    "        res.append((e, loss_, acc_, loss, acc))\n",
    "    return np.asarray(res)"
   ]
  },
  {
   "cell_type": "markdown",
   "metadata": {},
   "source": [
    "evaluate the model by validating data."
   ]
  },
  {
   "cell_type": "code",
   "execution_count": 8,
   "metadata": {},
   "outputs": [],
   "source": [
    "def calculate_losses(model_in, data_generator_in, N_images, batch_size_):\n",
    "    loss_hold = []\n",
    "    acc_hold = []\n",
    "    batches = 0\n",
    "    \n",
    "    # iterate over each batch\n",
    "    for x,y in data_generator_in:\n",
    "        loss, acc = model_in.evaluate(x, y, verbose=0)\n",
    "        loss_hold.append(loss)\n",
    "        acc_hold.append(acc)\n",
    "        batches += 1\n",
    "        if batches >= N_images / batch_size_:\n",
    "            # break when needed\n",
    "            break\n",
    "            \n",
    "    return np.mean(loss_hold), np.mean(acc_hold)"
   ]
  },
  {
   "cell_type": "markdown",
   "metadata": {},
   "source": [
    "draw the graph and print numerical accuracy for evaluation"
   ]
  },
  {
   "cell_type": "code",
   "execution_count": 9,
   "metadata": {},
   "outputs": [],
   "source": [
    "def plot_results(res):\n",
    "    plt.figure(figsize=(12,4))\n",
    "    plt.subplot(1,2,1)\n",
    "    plt.plot(res[:,0], res[:,1], 'r-')\n",
    "    plt.plot(res[:,0], res[:,3], 'b-')\n",
    "    plt.legend(['Train', 'Validation'])\n",
    "    plt.xlabel('epoch')\n",
    "    plt.ylabel('Loss')\n",
    "    plt.ylim([0, np.max([5., np.max(res[:,1]), np.max(res[:,3])])])\n",
    "    print(\"Losses: \", res[:,3]);\n",
    "    plt.savefig('losses.png')\n",
    "\n",
    "    plt.subplot(1,2,2)\n",
    "    plt.plot(res[:,0], res[:,2], 'r-')\n",
    "    plt.plot(res[:,0], res[:,4], 'b-')\n",
    "    plt.legend(['Train', 'Validation'])\n",
    "    plt.xlabel('epoch')\n",
    "    plt.ylabel('Accuracy')\n",
    "    plt.ylim([0, np.max([1., np.max(res[:,2]), np.max(res[:,4])])])\n",
    "    \n",
    "    print(\"Accuracy: \", res[:,4]);\n",
    "    plt.savefig('accuracy.png')"
   ]
  },
  {
   "cell_type": "markdown",
   "metadata": {},
   "source": [
    "generate traning and validating data to fit the model, after final tunning, 20 epoch is the best fit for shape and 80 is for types."
   ]
  },
  {
   "cell_type": "code",
   "execution_count": 12,
   "metadata": {},
   "outputs": [
    {
     "name": "stdout",
     "output_type": "stream",
     "text": [
      "Found 2954 validated image filenames belonging to 5 classes.\n",
      "Found 739 validated image filenames belonging to 5 classes.\n",
      "Losses:  [0.2976929  0.17470751 0.12043921 0.08577862 0.08768137 0.06544432\n",
      " 0.06114547 0.05581132 0.05627791 0.04755713 0.05840794 0.05065907\n",
      " 0.05627617 0.05796649 0.04608005 0.04817849 0.05125579 0.05835882\n",
      " 0.05009597 0.03977084]\n",
      "Accuracy:  [0.91888298 0.93838653 0.96409574 0.9787234  0.97562057 0.98537234\n",
      " 0.98404255 0.99069149 0.99069149 0.99069149 0.98537234 0.9893617\n",
      " 0.9893617  0.9893617  0.99202128 0.9893617  0.9893617  0.9893617\n",
      " 0.98803191 0.99335106]\n"
     ]
    },
    {
     "data": {
      "image/png": "[encoded data removed]",
      "text/plain": [
       "<Figure size 864x288 with 2 Axes>"
      ]
     },
     "metadata": {},
     "output_type": "display_data"
    }
   ],
   "source": [
    "model_shapes = create_model_for_shapes()\n",
    "train_generator, validation_generator = data_generator(trainData, validationData, \"sign_shape\")\n",
    "res = train_model(model_shapes, train_generator, validation_generator, num_epoch=20, verbose=False)\n",
    "plot_results(res)"
   ]
  },
  {
   "cell_type": "code",
   "execution_count": 13,
   "metadata": {},
   "outputs": [
    {
     "name": "stdout",
     "output_type": "stream",
     "text": [
      "Found 2954 validated image filenames belonging to 16 classes.\n",
      "Found 739 validated image filenames belonging to 16 classes.\n",
      "Losses:  [0.90024166 0.48867584 0.30261014 0.28353013 0.20237501 0.22984289\n",
      " 0.17279011 0.18073957 0.14900324 0.15961249 0.14301362 0.13731053\n",
      " 0.12487696 0.11921949 0.11487006 0.13748282 0.11249302 0.11880579\n",
      " 0.10821783 0.11099001 0.09798972 0.09651324 0.11019762 0.09239231\n",
      " 0.08519075 0.08969538 0.08972446 0.08371128 0.08171764 0.09471806\n",
      " 0.08377275 0.08679118 0.08143223 0.09053715 0.08260262 0.08441431\n",
      " 0.07267472 0.08552206 0.08124174 0.07097961 0.07995143 0.06953541\n",
      " 0.07898438 0.07519921 0.06941887 0.09612852 0.07130628 0.06882079\n",
      " 0.06506572 0.06959775 0.06290109 0.05901177 0.07037936 0.06647156\n",
      " 0.0665713  0.06431651 0.06168068 0.06304356 0.06947017 0.06600884\n",
      " 0.06709835 0.06924921 0.06650623 0.05943935 0.06261491 0.05563643\n",
      " 0.0622385  0.0628232  0.06122307 0.0593161  0.06488649 0.06242142\n",
      " 0.059775   0.06076068 0.06270864 0.06199188 0.06734954 0.05994833\n",
      " 0.0597723  0.06111147]\n",
      "Accuracy:  [0.79654255 0.87765957 0.94547872 0.92907801 0.95478723 0.95345745\n",
      " 0.96808511 0.96941489 0.97606383 0.97074468 0.96808511 0.97207447\n",
      " 0.97606383 0.98271277 0.98005319 0.96764184 0.97739362 0.97207447\n",
      " 0.9787234  0.97606383 0.98404255 0.98670213 0.97739362 0.98670213\n",
      " 0.98670213 0.98404255 0.98803191 0.98670213 0.98404255 0.98138298\n",
      " 0.98537234 0.98271277 0.98670213 0.9822695  0.99202128 0.98404255\n",
      " 0.9893617  0.98537234 0.98537234 0.98803191 0.98803191 0.9893617\n",
      " 0.98670213 0.9893617  0.98404255 0.9822695  0.98537234 0.9893617\n",
      " 0.99069149 0.98803191 0.99069149 0.99335106 0.98670213 0.98670213\n",
      " 0.9893617  0.99069149 0.99335106 0.99202128 0.99069149 0.99069149\n",
      " 0.98537234 0.9893617  0.9893617  0.99202128 0.9893617  0.99202128\n",
      " 0.98803191 0.98803191 0.99069149 0.99069149 0.99069149 0.98670213\n",
      " 0.98803191 0.99069149 0.9893617  0.98803191 0.98537234 0.99202128\n",
      " 0.99069149 0.98537234]\n"
     ]
    },
    {
     "data": {
      "image/png": "[encoded data removed]",
      "text/plain": [
       "<Figure size 864x288 with 2 Axes>"
      ]
     },
     "metadata": {},
     "output_type": "display_data"
    }
   ],
   "source": [
    "model_types = create_model_for_types()\n",
    "train_generator, validation_generator = data_generator(trainData, validationData, \"sign_type\")\n",
    "res = train_model(model_types, train_generator, validation_generator, num_epoch=80, verbose=False)\n",
    "plot_results(res)"
   ]
  },
  {
   "cell_type": "markdown",
   "metadata": {},
   "source": [
    "# for the actual model and testing test data."
   ]
  },
  {
   "cell_type": "code",
   "execution_count": 14,
   "metadata": {},
   "outputs": [],
   "source": [
    "def load_image(img_path):\n",
    "\n",
    "    img = image.load_img(img_path, target_size=(28, 28))\n",
    "    img_tensor = image.img_to_array(img)                    # (height, width, channels)\n",
    "    img_tensor = np.expand_dims(img_tensor, axis=0)         # (1, height, width, channels), add a dimension because the model expects this shape: (batch_size, height, width, channels)\n",
    "    img_tensor /= 255.                                      # imshow expects values in the range [0, 1]\n",
    "\n",
    "    plt.imshow(img_tensor[0])                           \n",
    "    plt.axis('off')\n",
    "    plt.show()\n",
    "\n",
    "    return img_tensor"
   ]
  },
  {
   "cell_type": "code",
   "execution_count": 63,
   "metadata": {},
   "outputs": [
    {
     "data": {
      "image/png": "[encoded data removed]",
      "text/plain": [
       "<Figure size 432x288 with 1 Axes>"
      ]
     },
     "metadata": {},
     "output_type": "display_data"
    }
   ],
   "source": [
    "img = load_image(\"./testing_data/00032_00002.png\");"
   ]
  },
  {
   "cell_type": "code",
   "execution_count": 59,
   "metadata": {},
   "outputs": [],
   "source": [
    "shapes = {'diamond', 'hex', 'round', 'square', 'triangle'}\n",
    "types = {'rightofway', 'stop', 'bicycle', 'limitedtraffic', 'noentry', 'noparking', 'roundabout', 'speed', \n",
    "             'trafficdirective', 'traveldirection', 'continue', 'crossing', 'laneen', 'parking', 'giveway', 'warning'}\n",
    "shapes = sorted(shapes)\n",
    "types = sorted(types)"
   ]
  },
  {
   "cell_type": "code",
   "execution_count": 60,
   "metadata": {},
   "outputs": [
    {
     "name": "stdout",
     "output_type": "stream",
     "text": [
      "diamond\n"
     ]
    }
   ],
   "source": [
    "pred = model_shapes.predict_classes(img, verbose=0)\n",
    "print(shapes[pred[0]])"
   ]
  },
  {
   "cell_type": "code",
   "execution_count": 61,
   "metadata": {},
   "outputs": [
    {
     "name": "stdout",
     "output_type": "stream",
     "text": [
      "rightofway\n"
     ]
    }
   ],
   "source": [
    "pred = model_types.predict_classes(img, verbose=0)\n",
    "print(types[pred[0]])"
   ]
  },
  {
   "cell_type": "code",
   "execution_count": null,
   "metadata": {},
   "outputs": [],
   "source": []
  }
 ],
 "metadata": {
  "kernelspec": {
   "display_name": "conda_tensorflow_p36",
   "language": "python",
   "name": "conda_tensorflow_p36"
  },
  "language_info": {
   "codemirror_mode": {
    "name": "ipython",
    "version": 3
   },
   "file_extension": ".py",
   "mimetype": "text/x-python",
   "name": "python",
   "nbconvert_exporter": "python",
   "pygments_lexer": "ipython3",
   "version": "3.6.6"
  }
 },
 "nbformat": 4,
 "nbformat_minor": 4
}
